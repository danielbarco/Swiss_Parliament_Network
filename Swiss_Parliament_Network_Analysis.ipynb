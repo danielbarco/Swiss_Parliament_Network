{
 "cells": [
  {
   "cell_type": "code",
   "execution_count": 259,
   "metadata": {
    "ExecuteTime": {
     "end_time": "2019-11-16T17:05:21.823856Z",
     "start_time": "2019-11-16T17:05:21.820841Z"
    }
   },
   "outputs": [],
   "source": [
    "from tabula import read_pdf\n",
    "import pandas as pd"
   ]
  },
  {
   "cell_type": "markdown",
   "metadata": {},
   "source": [
    "## Learnings\n",
    "\n",
    "to replace Nans best use fillna:\n"
   ]
  },
  {
   "cell_type": "code",
   "execution_count": 260,
   "metadata": {
    "ExecuteTime": {
     "end_time": "2019-11-16T17:05:21.831256Z",
     "start_time": "2019-11-16T17:05:21.826162Z"
    }
   },
   "outputs": [],
   "source": [
    "###\n",
    "def clean_columns(df):\n",
    "    rats_correct = 'Ratsmitglied,\\rPartei / Kanton\\rMembre du Conseil,\\rParti / Canton\\rMembro del Consiglio,\\rPartito / Cantone'\n",
    "    zutritt_correct = 'Zutrittsberechtigte\\rAccrédités\\rAccreditati'\n",
    "    funkt_correct = 'Funktion\\rFonction\\rFunzione'\n",
    "    df = df.reset_index()\n",
    "    values = {rats_correct: 'Ratsmitglied,', zutritt_correct: 'Unnamed: 1',funkt_correct : 'Unnamed: 2'}\n",
    "    df.fillna(value=values,limit=1,inplace= True)\n",
    "    df=df.drop(columns=['Ratsmitglied,', 'Unnamed: 1', 'Unnamed: 2', 'Unnamed: 3'])\n",
    "    return df\n",
    "###"
   ]
  },
  {
   "cell_type": "code",
   "execution_count": 261,
   "metadata": {
    "ExecuteTime": {
     "end_time": "2019-11-16T17:05:21.836457Z",
     "start_time": "2019-11-16T17:05:21.833897Z"
    }
   },
   "outputs": [],
   "source": [
    "column_names = ['Ratsmitglied,\\rPartei / Kanton\\rMembre du Conseil,\\rParti / Canton\\rMembro del Consiglio,\\rPartito / Cantone','Zutrittsberechtigte\\rAccrédités\\rAccreditati','Funktion\\rFonction\\rFunzione']"
   ]
  },
  {
   "cell_type": "code",
   "execution_count": 266,
   "metadata": {
    "ExecuteTime": {
     "end_time": "2019-11-16T17:26:15.640705Z",
     "start_time": "2019-11-16T17:25:46.473037Z"
    }
   },
   "outputs": [
    {
     "name": "stdout",
     "output_type": "stream",
     "text": [
      "0\n",
      "1\n",
      "2\n",
      "3\n",
      "4\n",
      "5\n",
      "6\n",
      "7\n",
      "8\n",
      "9\n",
      "10\n",
      "11\n",
      "12\n",
      "13\n",
      "14\n",
      "15\n",
      "16\n",
      "17\n",
      "18\n",
      "19\n",
      "20\n",
      "21\n",
      "22\n",
      "23\n",
      "24\n"
     ]
    }
   ],
   "source": [
    "df = pd.DataFrame()\n",
    "df_wrong = pd.DataFrame()\n",
    "rats_correct = 'Ratsmitglied,\\rPartei / Kanton\\rMembre du Conseil,\\rParti / Canton\\rMembro del Consiglio,\\rPartito / Cantone'\n",
    "zutritt_correct = 'Zutrittsberechtigte\\rAccrédités\\rAccreditati'\n",
    "funkt_correct = 'Funktion\\rFonction\\rFunzione'\n",
    "for page in range(0,25):\n",
    "    print(page)\n",
    "    df_current = read_pdf('zutritt2.pdf', pages=page)\n",
    "    if 'Unnamed: 1' in df_current.columns:\n",
    "        df_current=df_current.drop_duplicates(keep=False)\n",
    "        df_current = df_current.rename(columns={'Ratsmitglied,': rats_correct, 'Unnamed: 1': zutritt_correct, 'Unnamed: 2':funkt_correct})\n",
    "        df_current = df_current.drop(columns=['Unnamed: 3'])\n",
    "#    df_current = df_current.fillna(value=rats_correct,limit=1,inplace= True)\n",
    "    df = df.append(df_current, sort= True)\n",
    "df[rats_correct].fillna(method='ffill',limit=1, inplace=True)\n",
    "df = df.rename(columns={rats_correct: 'Ratsmitglied', zutritt_correct: 'Zutrittsberechtigte',funkt_correct : 'Funktion'})\n",
    "df = df[['Ratsmitglied','Zutrittsberechtigte','Funktion']]\n",
    "df = df.reset_index()"
   ]
  },
  {
   "cell_type": "code",
   "execution_count": 267,
   "metadata": {
    "ExecuteTime": {
     "end_time": "2019-11-16T17:26:15.795365Z",
     "start_time": "2019-11-16T17:26:15.787840Z"
    }
   },
   "outputs": [
    {
     "data": {
      "text/plain": [
       "Persönliche/r Mitarbeiter/in              32\n",
       "Gast                                      31\n",
       "Invité(e)                                 19\n",
       "Collaborateur(rice) personnel(le)         12\n",
       "Collaboratore/trice personale              3\n",
       "                                          ..\n",
       "santésuisse                                1\n",
       "UPC                                        1\n",
       "Privatkliniken Schweiz / Hirslanden AG     1\n",
       "Schweizerische Flüchtlingshilfe SFH        1\n",
       "BDP Luzern                                 1\n",
       "Name: Funktion, Length: 170, dtype: int64"
      ]
     },
     "execution_count": 267,
     "metadata": {},
     "output_type": "execute_result"
    }
   ],
   "source": [
    "df['Funktion'].value_counts()"
   ]
  },
  {
   "cell_type": "code",
   "execution_count": 268,
   "metadata": {
    "ExecuteTime": {
     "end_time": "2019-11-16T17:26:15.944998Z",
     "start_time": "2019-11-16T17:26:15.936052Z"
    }
   },
   "outputs": [
    {
     "data": {
      "text/html": [
       "<div>\n",
       "<style scoped>\n",
       "    .dataframe tbody tr th:only-of-type {\n",
       "        vertical-align: middle;\n",
       "    }\n",
       "\n",
       "    .dataframe tbody tr th {\n",
       "        vertical-align: top;\n",
       "    }\n",
       "\n",
       "    .dataframe thead th {\n",
       "        text-align: right;\n",
       "    }\n",
       "</style>\n",
       "<table border=\"1\" class=\"dataframe\">\n",
       "  <thead>\n",
       "    <tr style=\"text-align: right;\">\n",
       "      <th></th>\n",
       "      <th>Ratsmitglied</th>\n",
       "      <th>Zutrittsberechtigte</th>\n",
       "      <th>Funktion</th>\n",
       "    </tr>\n",
       "  </thead>\n",
       "  <tbody>\n",
       "    <tr>\n",
       "      <th>0</th>\n",
       "      <td>Addor Jean-Luc, UDC/VS</td>\n",
       "      <td>Perroud Bruno</td>\n",
       "      <td>Invité(e)</td>\n",
       "    </tr>\n",
       "    <tr>\n",
       "      <th>1</th>\n",
       "      <td>Addor Jean-Luc, UDC/VS</td>\n",
       "      <td>Fauchère Cyrille</td>\n",
       "      <td>Invité(e)</td>\n",
       "    </tr>\n",
       "    <tr>\n",
       "      <th>2</th>\n",
       "      <td>Aebi Andreas, SVP/BE</td>\n",
       "      <td>Schneider Donat</td>\n",
       "      <td>aaremilch AG</td>\n",
       "    </tr>\n",
       "    <tr>\n",
       "      <th>3</th>\n",
       "      <td>Aebi Andreas, SVP/BE</td>\n",
       "      <td>Wyss Andreas</td>\n",
       "      <td>Berner Bauernverband</td>\n",
       "    </tr>\n",
       "    <tr>\n",
       "      <th>4</th>\n",
       "      <td>Aebischer Matthias, SP/BE</td>\n",
       "      <td>Bütikofer Etienne</td>\n",
       "      <td>Bildungsorganisation savoirsuisse</td>\n",
       "    </tr>\n",
       "    <tr>\n",
       "      <th>...</th>\n",
       "      <td>...</td>\n",
       "      <td>...</td>\n",
       "      <td>...</td>\n",
       "    </tr>\n",
       "    <tr>\n",
       "      <th>11</th>\n",
       "      <td>Walti Beat, FDP-Liberale/ZH</td>\n",
       "      <td>Dolder-Troller Brigitta</td>\n",
       "      <td>Persönliche/r Mitarbeiter/in</td>\n",
       "    </tr>\n",
       "    <tr>\n",
       "      <th>12</th>\n",
       "      <td>Wasserfallen Christian, FDP-\\rLiberale/BE</td>\n",
       "      <td>Wasserfallen Margret</td>\n",
       "      <td>Gast</td>\n",
       "    </tr>\n",
       "    <tr>\n",
       "      <th>13</th>\n",
       "      <td>Wasserfallen Christian, FDP-\\rLiberale/BE</td>\n",
       "      <td>Thalhammer Alexandra</td>\n",
       "      <td>Burson Marsteller</td>\n",
       "    </tr>\n",
       "    <tr>\n",
       "      <th>14</th>\n",
       "      <td>Wasserfallen Flavia, SP/BE</td>\n",
       "      <td>NaN</td>\n",
       "      <td>NaN</td>\n",
       "    </tr>\n",
       "    <tr>\n",
       "      <th>15</th>\n",
       "      <td>Wasserfallen Flavia, SP/BE</td>\n",
       "      <td>NaN</td>\n",
       "      <td>NaN</td>\n",
       "    </tr>\n",
       "  </tbody>\n",
       "</table>\n",
       "<p>467 rows × 3 columns</p>\n",
       "</div>"
      ],
      "text/plain": [
       "                                 Ratsmitglied      Zutrittsberechtigte  \\\n",
       "0                      Addor Jean-Luc, UDC/VS            Perroud Bruno   \n",
       "1                      Addor Jean-Luc, UDC/VS         Fauchère Cyrille   \n",
       "2                        Aebi Andreas, SVP/BE          Schneider Donat   \n",
       "3                        Aebi Andreas, SVP/BE             Wyss Andreas   \n",
       "4                   Aebischer Matthias, SP/BE        Bütikofer Etienne   \n",
       "..                                        ...                      ...   \n",
       "11                Walti Beat, FDP-Liberale/ZH  Dolder-Troller Brigitta   \n",
       "12  Wasserfallen Christian, FDP-\\rLiberale/BE     Wasserfallen Margret   \n",
       "13  Wasserfallen Christian, FDP-\\rLiberale/BE     Thalhammer Alexandra   \n",
       "14                 Wasserfallen Flavia, SP/BE                      NaN   \n",
       "15                 Wasserfallen Flavia, SP/BE                      NaN   \n",
       "\n",
       "                             Funktion  \n",
       "0                           Invité(e)  \n",
       "1                           Invité(e)  \n",
       "2                        aaremilch AG  \n",
       "3                Berner Bauernverband  \n",
       "4   Bildungsorganisation savoirsuisse  \n",
       "..                                ...  \n",
       "11       Persönliche/r Mitarbeiter/in  \n",
       "12                               Gast  \n",
       "13                  Burson Marsteller  \n",
       "14                                NaN  \n",
       "15                                NaN  \n",
       "\n",
       "[467 rows x 3 columns]"
      ]
     },
     "execution_count": 268,
     "metadata": {},
     "output_type": "execute_result"
    }
   ],
   "source": [
    "df"
   ]
  },
  {
   "cell_type": "code",
   "execution_count": null,
   "metadata": {},
   "outputs": [],
   "source": []
  },
  {
   "cell_type": "code",
   "execution_count": null,
   "metadata": {},
   "outputs": [],
   "source": []
  }
 ],
 "metadata": {
  "kernelspec": {
   "display_name": "Python 3",
   "language": "python",
   "name": "python3"
  },
  "language_info": {
   "codemirror_mode": {
    "name": "ipython",
    "version": 3
   },
   "file_extension": ".py",
   "mimetype": "text/x-python",
   "name": "python",
   "nbconvert_exporter": "python",
   "pygments_lexer": "ipython3",
   "version": "3.7.0"
  },
  "toc": {
   "base_numbering": 1,
   "nav_menu": {},
   "number_sections": true,
   "sideBar": true,
   "skip_h1_title": false,
   "title_cell": "Table of Contents",
   "title_sidebar": "Contents",
   "toc_cell": false,
   "toc_position": {},
   "toc_section_display": true,
   "toc_window_display": false
  },
  "varInspector": {
   "cols": {
    "lenName": 16,
    "lenType": 16,
    "lenVar": 40
   },
   "kernels_config": {
    "python": {
     "delete_cmd_postfix": "",
     "delete_cmd_prefix": "del ",
     "library": "var_list.py",
     "varRefreshCmd": "print(var_dic_list())"
    },
    "r": {
     "delete_cmd_postfix": ") ",
     "delete_cmd_prefix": "rm(",
     "library": "var_list.r",
     "varRefreshCmd": "cat(var_dic_list()) "
    }
   },
   "types_to_exclude": [
    "module",
    "function",
    "builtin_function_or_method",
    "instance",
    "_Feature"
   ],
   "window_display": false
  }
 },
 "nbformat": 4,
 "nbformat_minor": 2
}
